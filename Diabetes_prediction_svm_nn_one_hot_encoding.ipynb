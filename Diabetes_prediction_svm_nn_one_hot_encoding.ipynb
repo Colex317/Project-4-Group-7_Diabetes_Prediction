{
 "cells": [
  {
   "cell_type": "code",
   "execution_count": 1,
   "metadata": {},
   "outputs": [
    {
     "name": "stdout",
     "output_type": "stream",
     "text": [
      "WARNING:tensorflow:From c:\\Users\\schre\\anaconda3\\envs\\dev\\lib\\site-packages\\keras\\src\\losses.py:2976: The name tf.losses.sparse_softmax_cross_entropy is deprecated. Please use tf.compat.v1.losses.sparse_softmax_cross_entropy instead.\n",
      "\n"
     ]
    }
   ],
   "source": [
    "# Import the modules\n",
    "import pandas as pd\n",
    "import numpy as np\n",
    "from pathlib import Path\n",
    "from sklearn.metrics import confusion_matrix, classification_report\n",
    "from sklearn.svm import SVC\n",
    "import tensorflow as tf\n",
    "import ydf\n",
    "from sklearn.naive_bayes import GaussianNB\n",
    "from xgboost import XGBClassifier"
   ]
  },
  {
   "cell_type": "markdown",
   "metadata": {},
   "source": [
    "## Dataset 2 - use one hot encoding with StandardScaler to deal with dataset"
   ]
  },
  {
   "cell_type": "code",
   "execution_count": 2,
   "metadata": {},
   "outputs": [
    {
     "data": {
      "text/html": [
       "<div>\n",
       "<style scoped>\n",
       "    .dataframe tbody tr th:only-of-type {\n",
       "        vertical-align: middle;\n",
       "    }\n",
       "\n",
       "    .dataframe tbody tr th {\n",
       "        vertical-align: top;\n",
       "    }\n",
       "\n",
       "    .dataframe thead th {\n",
       "        text-align: right;\n",
       "    }\n",
       "</style>\n",
       "<table border=\"1\" class=\"dataframe\">\n",
       "  <thead>\n",
       "    <tr style=\"text-align: right;\">\n",
       "      <th></th>\n",
       "      <th>age</th>\n",
       "      <th>hypertension</th>\n",
       "      <th>heart_disease</th>\n",
       "      <th>bmi</th>\n",
       "      <th>hba1c_level</th>\n",
       "      <th>blood_glucose_level</th>\n",
       "      <th>diabetes_status</th>\n",
       "      <th>gender_Female</th>\n",
       "      <th>gender_Male</th>\n",
       "      <th>gender_Other</th>\n",
       "      <th>smoking_history_No Info</th>\n",
       "      <th>smoking_history_current</th>\n",
       "      <th>smoking_history_ever</th>\n",
       "      <th>smoking_history_former</th>\n",
       "      <th>smoking_history_never</th>\n",
       "      <th>smoking_history_not current</th>\n",
       "    </tr>\n",
       "  </thead>\n",
       "  <tbody>\n",
       "    <tr>\n",
       "      <th>0</th>\n",
       "      <td>1.691761</td>\n",
       "      <td>0</td>\n",
       "      <td>1</td>\n",
       "      <td>-0.282234</td>\n",
       "      <td>0.787897</td>\n",
       "      <td>0.047704</td>\n",
       "      <td>0</td>\n",
       "      <td>1</td>\n",
       "      <td>0</td>\n",
       "      <td>0</td>\n",
       "      <td>0</td>\n",
       "      <td>0</td>\n",
       "      <td>0</td>\n",
       "      <td>0</td>\n",
       "      <td>1</td>\n",
       "      <td>0</td>\n",
       "    </tr>\n",
       "    <tr>\n",
       "      <th>1</th>\n",
       "      <td>0.538015</td>\n",
       "      <td>0</td>\n",
       "      <td>0</td>\n",
       "      <td>0.018883</td>\n",
       "      <td>0.787897</td>\n",
       "      <td>-1.426210</td>\n",
       "      <td>0</td>\n",
       "      <td>1</td>\n",
       "      <td>0</td>\n",
       "      <td>0</td>\n",
       "      <td>1</td>\n",
       "      <td>0</td>\n",
       "      <td>0</td>\n",
       "      <td>0</td>\n",
       "      <td>0</td>\n",
       "      <td>0</td>\n",
       "    </tr>\n",
       "    <tr>\n",
       "      <th>2</th>\n",
       "      <td>-0.615730</td>\n",
       "      <td>0</td>\n",
       "      <td>0</td>\n",
       "      <td>0.018883</td>\n",
       "      <td>-0.120279</td>\n",
       "      <td>0.489878</td>\n",
       "      <td>0</td>\n",
       "      <td>0</td>\n",
       "      <td>1</td>\n",
       "      <td>0</td>\n",
       "      <td>0</td>\n",
       "      <td>0</td>\n",
       "      <td>0</td>\n",
       "      <td>0</td>\n",
       "      <td>1</td>\n",
       "      <td>0</td>\n",
       "    </tr>\n",
       "    <tr>\n",
       "      <th>3</th>\n",
       "      <td>-0.260731</td>\n",
       "      <td>0</td>\n",
       "      <td>0</td>\n",
       "      <td>-0.583350</td>\n",
       "      <td>-0.120279</td>\n",
       "      <td>0.416183</td>\n",
       "      <td>0</td>\n",
       "      <td>1</td>\n",
       "      <td>0</td>\n",
       "      <td>0</td>\n",
       "      <td>0</td>\n",
       "      <td>1</td>\n",
       "      <td>0</td>\n",
       "      <td>0</td>\n",
       "      <td>0</td>\n",
       "      <td>0</td>\n",
       "    </tr>\n",
       "    <tr>\n",
       "      <th>4</th>\n",
       "      <td>1.514261</td>\n",
       "      <td>1</td>\n",
       "      <td>1</td>\n",
       "      <td>-1.035025</td>\n",
       "      <td>-1.028455</td>\n",
       "      <td>0.416183</td>\n",
       "      <td>0</td>\n",
       "      <td>0</td>\n",
       "      <td>1</td>\n",
       "      <td>0</td>\n",
       "      <td>0</td>\n",
       "      <td>1</td>\n",
       "      <td>0</td>\n",
       "      <td>0</td>\n",
       "      <td>0</td>\n",
       "      <td>0</td>\n",
       "    </tr>\n",
       "  </tbody>\n",
       "</table>\n",
       "</div>"
      ],
      "text/plain": [
       "        age  hypertension  heart_disease       bmi  hba1c_level  \\\n",
       "0  1.691761             0              1 -0.282234     0.787897   \n",
       "1  0.538015             0              0  0.018883     0.787897   \n",
       "2 -0.615730             0              0  0.018883    -0.120279   \n",
       "3 -0.260731             0              0 -0.583350    -0.120279   \n",
       "4  1.514261             1              1 -1.035025    -1.028455   \n",
       "\n",
       "   blood_glucose_level  diabetes_status  gender_Female  gender_Male  \\\n",
       "0             0.047704                0              1            0   \n",
       "1            -1.426210                0              1            0   \n",
       "2             0.489878                0              0            1   \n",
       "3             0.416183                0              1            0   \n",
       "4             0.416183                0              0            1   \n",
       "\n",
       "   gender_Other  smoking_history_No Info  smoking_history_current  \\\n",
       "0             0                        0                        0   \n",
       "1             0                        1                        0   \n",
       "2             0                        0                        0   \n",
       "3             0                        0                        1   \n",
       "4             0                        0                        1   \n",
       "\n",
       "   smoking_history_ever  smoking_history_former  smoking_history_never  \\\n",
       "0                     0                       0                      1   \n",
       "1                     0                       0                      0   \n",
       "2                     0                       0                      1   \n",
       "3                     0                       0                      0   \n",
       "4                     0                       0                      0   \n",
       "\n",
       "   smoking_history_not current  \n",
       "0                            0  \n",
       "1                            0  \n",
       "2                            0  \n",
       "3                            0  \n",
       "4                            0  "
      ]
     },
     "execution_count": 2,
     "metadata": {},
     "output_type": "execute_result"
    }
   ],
   "source": [
    "# Read in the cleaned/prepared csv file\n",
    "# c:\\Users\\schre\\Downloads\\diabetes_prediction_cleaned_sn.csv\n",
    "dm_prediction_df = pd.read_csv(\"Resources/diabetes_prediction_cleaned_one_hot_encoding.csv\")\n",
    "dm_prediction_df.head()"
   ]
  },
  {
   "cell_type": "markdown",
   "metadata": {},
   "source": [
    "# Create the labels set (y) from the “diabetes_status” column, and then create the features (X) DataFrame from the remaining columns."
   ]
  },
  {
   "cell_type": "code",
   "execution_count": 3,
   "metadata": {},
   "outputs": [],
   "source": [
    "# Separate the data into labels and features\n",
    "# Separate the y variable, the labels\n",
    "y = dm_prediction_df['diabetes_status']\n",
    "\n",
    "# Separate the X variable, the features\n",
    "X = dm_prediction_df.drop(columns=['diabetes_status'])"
   ]
  },
  {
   "cell_type": "code",
   "execution_count": 4,
   "metadata": {},
   "outputs": [
    {
     "data": {
      "text/plain": [
       "0    0\n",
       "1    0\n",
       "2    0\n",
       "3    0\n",
       "4    0\n",
       "Name: diabetes_status, dtype: int64"
      ]
     },
     "metadata": {},
     "output_type": "display_data"
    },
    {
     "data": {
      "text/plain": [
       "99995    0\n",
       "99996    0\n",
       "99997    0\n",
       "99998    0\n",
       "99999    0\n",
       "Name: diabetes_status, dtype: int64"
      ]
     },
     "metadata": {},
     "output_type": "display_data"
    }
   ],
   "source": [
    "# Review the y variable Series\n",
    "display(y.head())\n",
    "display(y.tail())"
   ]
  },
  {
   "cell_type": "code",
   "execution_count": 5,
   "metadata": {},
   "outputs": [
    {
     "data": {
      "text/html": [
       "<div>\n",
       "<style scoped>\n",
       "    .dataframe tbody tr th:only-of-type {\n",
       "        vertical-align: middle;\n",
       "    }\n",
       "\n",
       "    .dataframe tbody tr th {\n",
       "        vertical-align: top;\n",
       "    }\n",
       "\n",
       "    .dataframe thead th {\n",
       "        text-align: right;\n",
       "    }\n",
       "</style>\n",
       "<table border=\"1\" class=\"dataframe\">\n",
       "  <thead>\n",
       "    <tr style=\"text-align: right;\">\n",
       "      <th></th>\n",
       "      <th>age</th>\n",
       "      <th>hypertension</th>\n",
       "      <th>heart_disease</th>\n",
       "      <th>bmi</th>\n",
       "      <th>hba1c_level</th>\n",
       "      <th>blood_glucose_level</th>\n",
       "      <th>gender_Female</th>\n",
       "      <th>gender_Male</th>\n",
       "      <th>gender_Other</th>\n",
       "      <th>smoking_history_No Info</th>\n",
       "      <th>smoking_history_current</th>\n",
       "      <th>smoking_history_ever</th>\n",
       "      <th>smoking_history_former</th>\n",
       "      <th>smoking_history_never</th>\n",
       "      <th>smoking_history_not current</th>\n",
       "    </tr>\n",
       "  </thead>\n",
       "  <tbody>\n",
       "    <tr>\n",
       "      <th>0</th>\n",
       "      <td>1.691761</td>\n",
       "      <td>0</td>\n",
       "      <td>1</td>\n",
       "      <td>-0.282234</td>\n",
       "      <td>0.787897</td>\n",
       "      <td>0.047704</td>\n",
       "      <td>1</td>\n",
       "      <td>0</td>\n",
       "      <td>0</td>\n",
       "      <td>0</td>\n",
       "      <td>0</td>\n",
       "      <td>0</td>\n",
       "      <td>0</td>\n",
       "      <td>1</td>\n",
       "      <td>0</td>\n",
       "    </tr>\n",
       "    <tr>\n",
       "      <th>1</th>\n",
       "      <td>0.538015</td>\n",
       "      <td>0</td>\n",
       "      <td>0</td>\n",
       "      <td>0.018883</td>\n",
       "      <td>0.787897</td>\n",
       "      <td>-1.426210</td>\n",
       "      <td>1</td>\n",
       "      <td>0</td>\n",
       "      <td>0</td>\n",
       "      <td>1</td>\n",
       "      <td>0</td>\n",
       "      <td>0</td>\n",
       "      <td>0</td>\n",
       "      <td>0</td>\n",
       "      <td>0</td>\n",
       "    </tr>\n",
       "    <tr>\n",
       "      <th>2</th>\n",
       "      <td>-0.615730</td>\n",
       "      <td>0</td>\n",
       "      <td>0</td>\n",
       "      <td>0.018883</td>\n",
       "      <td>-0.120279</td>\n",
       "      <td>0.489878</td>\n",
       "      <td>0</td>\n",
       "      <td>1</td>\n",
       "      <td>0</td>\n",
       "      <td>0</td>\n",
       "      <td>0</td>\n",
       "      <td>0</td>\n",
       "      <td>0</td>\n",
       "      <td>1</td>\n",
       "      <td>0</td>\n",
       "    </tr>\n",
       "    <tr>\n",
       "      <th>3</th>\n",
       "      <td>-0.260731</td>\n",
       "      <td>0</td>\n",
       "      <td>0</td>\n",
       "      <td>-0.583350</td>\n",
       "      <td>-0.120279</td>\n",
       "      <td>0.416183</td>\n",
       "      <td>1</td>\n",
       "      <td>0</td>\n",
       "      <td>0</td>\n",
       "      <td>0</td>\n",
       "      <td>1</td>\n",
       "      <td>0</td>\n",
       "      <td>0</td>\n",
       "      <td>0</td>\n",
       "      <td>0</td>\n",
       "    </tr>\n",
       "    <tr>\n",
       "      <th>4</th>\n",
       "      <td>1.514261</td>\n",
       "      <td>1</td>\n",
       "      <td>1</td>\n",
       "      <td>-1.035025</td>\n",
       "      <td>-1.028455</td>\n",
       "      <td>0.416183</td>\n",
       "      <td>0</td>\n",
       "      <td>1</td>\n",
       "      <td>0</td>\n",
       "      <td>0</td>\n",
       "      <td>1</td>\n",
       "      <td>0</td>\n",
       "      <td>0</td>\n",
       "      <td>0</td>\n",
       "      <td>0</td>\n",
       "    </tr>\n",
       "  </tbody>\n",
       "</table>\n",
       "</div>"
      ],
      "text/plain": [
       "        age  hypertension  heart_disease       bmi  hba1c_level  \\\n",
       "0  1.691761             0              1 -0.282234     0.787897   \n",
       "1  0.538015             0              0  0.018883     0.787897   \n",
       "2 -0.615730             0              0  0.018883    -0.120279   \n",
       "3 -0.260731             0              0 -0.583350    -0.120279   \n",
       "4  1.514261             1              1 -1.035025    -1.028455   \n",
       "\n",
       "   blood_glucose_level  gender_Female  gender_Male  gender_Other  \\\n",
       "0             0.047704              1            0             0   \n",
       "1            -1.426210              1            0             0   \n",
       "2             0.489878              0            1             0   \n",
       "3             0.416183              1            0             0   \n",
       "4             0.416183              0            1             0   \n",
       "\n",
       "   smoking_history_No Info  smoking_history_current  smoking_history_ever  \\\n",
       "0                        0                        0                     0   \n",
       "1                        1                        0                     0   \n",
       "2                        0                        0                     0   \n",
       "3                        0                        1                     0   \n",
       "4                        0                        1                     0   \n",
       "\n",
       "   smoking_history_former  smoking_history_never  smoking_history_not current  \n",
       "0                       0                      1                            0  \n",
       "1                       0                      0                            0  \n",
       "2                       0                      1                            0  \n",
       "3                       0                      0                            0  \n",
       "4                       0                      0                            0  "
      ]
     },
     "metadata": {},
     "output_type": "display_data"
    },
    {
     "data": {
      "text/html": [
       "<div>\n",
       "<style scoped>\n",
       "    .dataframe tbody tr th:only-of-type {\n",
       "        vertical-align: middle;\n",
       "    }\n",
       "\n",
       "    .dataframe tbody tr th {\n",
       "        vertical-align: top;\n",
       "    }\n",
       "\n",
       "    .dataframe thead th {\n",
       "        text-align: right;\n",
       "    }\n",
       "</style>\n",
       "<table border=\"1\" class=\"dataframe\">\n",
       "  <thead>\n",
       "    <tr style=\"text-align: right;\">\n",
       "      <th></th>\n",
       "      <th>age</th>\n",
       "      <th>hypertension</th>\n",
       "      <th>heart_disease</th>\n",
       "      <th>bmi</th>\n",
       "      <th>hba1c_level</th>\n",
       "      <th>blood_glucose_level</th>\n",
       "      <th>gender_Female</th>\n",
       "      <th>gender_Male</th>\n",
       "      <th>gender_Other</th>\n",
       "      <th>smoking_history_No Info</th>\n",
       "      <th>smoking_history_current</th>\n",
       "      <th>smoking_history_ever</th>\n",
       "      <th>smoking_history_former</th>\n",
       "      <th>smoking_history_never</th>\n",
       "      <th>smoking_history_not current</th>\n",
       "    </tr>\n",
       "  </thead>\n",
       "  <tbody>\n",
       "    <tr>\n",
       "      <th>99995</th>\n",
       "      <td>1.691761</td>\n",
       "      <td>0</td>\n",
       "      <td>0</td>\n",
       "      <td>0.018883</td>\n",
       "      <td>0.787897</td>\n",
       "      <td>-1.180558</td>\n",
       "      <td>1</td>\n",
       "      <td>0</td>\n",
       "      <td>0</td>\n",
       "      <td>1</td>\n",
       "      <td>0</td>\n",
       "      <td>0</td>\n",
       "      <td>0</td>\n",
       "      <td>0</td>\n",
       "      <td>0</td>\n",
       "    </tr>\n",
       "    <tr>\n",
       "      <th>99996</th>\n",
       "      <td>-1.769475</td>\n",
       "      <td>0</td>\n",
       "      <td>0</td>\n",
       "      <td>-1.486700</td>\n",
       "      <td>0.787897</td>\n",
       "      <td>-0.934905</td>\n",
       "      <td>1</td>\n",
       "      <td>0</td>\n",
       "      <td>0</td>\n",
       "      <td>1</td>\n",
       "      <td>0</td>\n",
       "      <td>0</td>\n",
       "      <td>0</td>\n",
       "      <td>0</td>\n",
       "      <td>0</td>\n",
       "    </tr>\n",
       "    <tr>\n",
       "      <th>99997</th>\n",
       "      <td>1.070513</td>\n",
       "      <td>0</td>\n",
       "      <td>0</td>\n",
       "      <td>0.018883</td>\n",
       "      <td>-0.120279</td>\n",
       "      <td>0.416183</td>\n",
       "      <td>0</td>\n",
       "      <td>1</td>\n",
       "      <td>0</td>\n",
       "      <td>0</td>\n",
       "      <td>0</td>\n",
       "      <td>0</td>\n",
       "      <td>1</td>\n",
       "      <td>0</td>\n",
       "      <td>0</td>\n",
       "    </tr>\n",
       "    <tr>\n",
       "      <th>99998</th>\n",
       "      <td>-0.793229</td>\n",
       "      <td>0</td>\n",
       "      <td>0</td>\n",
       "      <td>1.223350</td>\n",
       "      <td>-1.028455</td>\n",
       "      <td>-0.934905</td>\n",
       "      <td>1</td>\n",
       "      <td>0</td>\n",
       "      <td>0</td>\n",
       "      <td>0</td>\n",
       "      <td>0</td>\n",
       "      <td>0</td>\n",
       "      <td>0</td>\n",
       "      <td>1</td>\n",
       "      <td>0</td>\n",
       "    </tr>\n",
       "    <tr>\n",
       "      <th>99999</th>\n",
       "      <td>0.671140</td>\n",
       "      <td>0</td>\n",
       "      <td>0</td>\n",
       "      <td>-0.733909</td>\n",
       "      <td>0.787897</td>\n",
       "      <td>-1.180558</td>\n",
       "      <td>1</td>\n",
       "      <td>0</td>\n",
       "      <td>0</td>\n",
       "      <td>0</td>\n",
       "      <td>1</td>\n",
       "      <td>0</td>\n",
       "      <td>0</td>\n",
       "      <td>0</td>\n",
       "      <td>0</td>\n",
       "    </tr>\n",
       "  </tbody>\n",
       "</table>\n",
       "</div>"
      ],
      "text/plain": [
       "            age  hypertension  heart_disease       bmi  hba1c_level  \\\n",
       "99995  1.691761             0              0  0.018883     0.787897   \n",
       "99996 -1.769475             0              0 -1.486700     0.787897   \n",
       "99997  1.070513             0              0  0.018883    -0.120279   \n",
       "99998 -0.793229             0              0  1.223350    -1.028455   \n",
       "99999  0.671140             0              0 -0.733909     0.787897   \n",
       "\n",
       "       blood_glucose_level  gender_Female  gender_Male  gender_Other  \\\n",
       "99995            -1.180558              1            0             0   \n",
       "99996            -0.934905              1            0             0   \n",
       "99997             0.416183              0            1             0   \n",
       "99998            -0.934905              1            0             0   \n",
       "99999            -1.180558              1            0             0   \n",
       "\n",
       "       smoking_history_No Info  smoking_history_current  smoking_history_ever  \\\n",
       "99995                        1                        0                     0   \n",
       "99996                        1                        0                     0   \n",
       "99997                        0                        0                     0   \n",
       "99998                        0                        0                     0   \n",
       "99999                        0                        1                     0   \n",
       "\n",
       "       smoking_history_former  smoking_history_never  \\\n",
       "99995                       0                      0   \n",
       "99996                       0                      0   \n",
       "99997                       1                      0   \n",
       "99998                       0                      1   \n",
       "99999                       0                      0   \n",
       "\n",
       "       smoking_history_not current  \n",
       "99995                            0  \n",
       "99996                            0  \n",
       "99997                            0  \n",
       "99998                            0  \n",
       "99999                            0  "
      ]
     },
     "metadata": {},
     "output_type": "display_data"
    }
   ],
   "source": [
    "# Review the X variable DataFrame\n",
    "display(X.head())\n",
    "display(X.tail())"
   ]
  },
  {
   "cell_type": "code",
   "execution_count": 6,
   "metadata": {},
   "outputs": [
    {
     "name": "stdout",
     "output_type": "stream",
     "text": [
      "(100000, 15)\n"
     ]
    }
   ],
   "source": [
    "print(X.shape)"
   ]
  },
  {
   "cell_type": "markdown",
   "metadata": {},
   "source": [
    "## Split the data into training and testing datasets by using train_test_split."
   ]
  },
  {
   "cell_type": "code",
   "execution_count": 7,
   "metadata": {},
   "outputs": [],
   "source": [
    "# Import the train_test_learn module\n",
    "from sklearn.model_selection import train_test_split\n",
    "\n",
    "# Split the data using train_test_split. Assign a random_state of 1 to the function\n",
    "X_train, X_test, y_train, y_test = train_test_split(X, \n",
    "                                                    y, \n",
    "                                                    random_state=1, \n",
    "                                                    stratify=y)"
   ]
  },
  {
   "cell_type": "markdown",
   "metadata": {},
   "source": [
    "# Create a Support Vector Machine Model with the Original Data\n",
    "## Fit a Support Vector Machine model by using the training data (X_train and y_train)."
   ]
  },
  {
   "cell_type": "code",
   "execution_count": 8,
   "metadata": {},
   "outputs": [
    {
     "data": {
      "text/html": [
       "<style>#sk-container-id-1 {color: black;}#sk-container-id-1 pre{padding: 0;}#sk-container-id-1 div.sk-toggleable {background-color: white;}#sk-container-id-1 label.sk-toggleable__label {cursor: pointer;display: block;width: 100%;margin-bottom: 0;padding: 0.3em;box-sizing: border-box;text-align: center;}#sk-container-id-1 label.sk-toggleable__label-arrow:before {content: \"▸\";float: left;margin-right: 0.25em;color: #696969;}#sk-container-id-1 label.sk-toggleable__label-arrow:hover:before {color: black;}#sk-container-id-1 div.sk-estimator:hover label.sk-toggleable__label-arrow:before {color: black;}#sk-container-id-1 div.sk-toggleable__content {max-height: 0;max-width: 0;overflow: hidden;text-align: left;background-color: #f0f8ff;}#sk-container-id-1 div.sk-toggleable__content pre {margin: 0.2em;color: black;border-radius: 0.25em;background-color: #f0f8ff;}#sk-container-id-1 input.sk-toggleable__control:checked~div.sk-toggleable__content {max-height: 200px;max-width: 100%;overflow: auto;}#sk-container-id-1 input.sk-toggleable__control:checked~label.sk-toggleable__label-arrow:before {content: \"▾\";}#sk-container-id-1 div.sk-estimator input.sk-toggleable__control:checked~label.sk-toggleable__label {background-color: #d4ebff;}#sk-container-id-1 div.sk-label input.sk-toggleable__control:checked~label.sk-toggleable__label {background-color: #d4ebff;}#sk-container-id-1 input.sk-hidden--visually {border: 0;clip: rect(1px 1px 1px 1px);clip: rect(1px, 1px, 1px, 1px);height: 1px;margin: -1px;overflow: hidden;padding: 0;position: absolute;width: 1px;}#sk-container-id-1 div.sk-estimator {font-family: monospace;background-color: #f0f8ff;border: 1px dotted black;border-radius: 0.25em;box-sizing: border-box;margin-bottom: 0.5em;}#sk-container-id-1 div.sk-estimator:hover {background-color: #d4ebff;}#sk-container-id-1 div.sk-parallel-item::after {content: \"\";width: 100%;border-bottom: 1px solid gray;flex-grow: 1;}#sk-container-id-1 div.sk-label:hover label.sk-toggleable__label {background-color: #d4ebff;}#sk-container-id-1 div.sk-serial::before {content: \"\";position: absolute;border-left: 1px solid gray;box-sizing: border-box;top: 0;bottom: 0;left: 50%;z-index: 0;}#sk-container-id-1 div.sk-serial {display: flex;flex-direction: column;align-items: center;background-color: white;padding-right: 0.2em;padding-left: 0.2em;position: relative;}#sk-container-id-1 div.sk-item {position: relative;z-index: 1;}#sk-container-id-1 div.sk-parallel {display: flex;align-items: stretch;justify-content: center;background-color: white;position: relative;}#sk-container-id-1 div.sk-item::before, #sk-container-id-1 div.sk-parallel-item::before {content: \"\";position: absolute;border-left: 1px solid gray;box-sizing: border-box;top: 0;bottom: 0;left: 50%;z-index: -1;}#sk-container-id-1 div.sk-parallel-item {display: flex;flex-direction: column;z-index: 1;position: relative;background-color: white;}#sk-container-id-1 div.sk-parallel-item:first-child::after {align-self: flex-end;width: 50%;}#sk-container-id-1 div.sk-parallel-item:last-child::after {align-self: flex-start;width: 50%;}#sk-container-id-1 div.sk-parallel-item:only-child::after {width: 0;}#sk-container-id-1 div.sk-dashed-wrapped {border: 1px dashed gray;margin: 0 0.4em 0.5em 0.4em;box-sizing: border-box;padding-bottom: 0.4em;background-color: white;}#sk-container-id-1 div.sk-label label {font-family: monospace;font-weight: bold;display: inline-block;line-height: 1.2em;}#sk-container-id-1 div.sk-label-container {text-align: center;}#sk-container-id-1 div.sk-container {/* jupyter's `normalize.less` sets `[hidden] { display: none; }` but bootstrap.min.css set `[hidden] { display: none !important; }` so we also need the `!important` here to be able to override the default hidden behavior on the sphinx rendered scikit-learn.org. See: https://github.com/scikit-learn/scikit-learn/issues/21755 */display: inline-block !important;position: relative;}#sk-container-id-1 div.sk-text-repr-fallback {display: none;}</style><div id=\"sk-container-id-1\" class=\"sk-top-container\"><div class=\"sk-text-repr-fallback\"><pre>SVC(kernel=&#x27;linear&#x27;)</pre><b>In a Jupyter environment, please rerun this cell to show the HTML representation or trust the notebook. <br />On GitHub, the HTML representation is unable to render, please try loading this page with nbviewer.org.</b></div><div class=\"sk-container\" hidden><div class=\"sk-item\"><div class=\"sk-estimator sk-toggleable\"><input class=\"sk-toggleable__control sk-hidden--visually\" id=\"sk-estimator-id-1\" type=\"checkbox\" checked><label for=\"sk-estimator-id-1\" class=\"sk-toggleable__label sk-toggleable__label-arrow\">SVC</label><div class=\"sk-toggleable__content\"><pre>SVC(kernel=&#x27;linear&#x27;)</pre></div></div></div></div></div>"
      ],
      "text/plain": [
       "SVC(kernel='linear')"
      ]
     },
     "execution_count": 8,
     "metadata": {},
     "output_type": "execute_result"
    }
   ],
   "source": [
    "model = SVC(kernel='linear')\n",
    "model.fit(X_train, y_train)"
   ]
  },
  {
   "cell_type": "markdown",
   "metadata": {},
   "source": [
    "## Make predictions on the test set and compute accuracy / classification report"
   ]
  },
  {
   "cell_type": "code",
   "execution_count": 9,
   "metadata": {},
   "outputs": [
    {
     "data": {
      "text/plain": [
       "array([0, 0, 0, ..., 0, 0, 0], dtype=int64)"
      ]
     },
     "execution_count": 9,
     "metadata": {},
     "output_type": "execute_result"
    }
   ],
   "source": [
    "predictions = model.predict(X_test)\n",
    "predictions"
   ]
  },
  {
   "cell_type": "code",
   "execution_count": 10,
   "metadata": {},
   "outputs": [
    {
     "name": "stdout",
     "output_type": "stream",
     "text": [
      "              precision    recall  f1-score   support\n",
      "\n",
      "           0       0.96      1.00      0.98     22875\n",
      "           1       0.93      0.56      0.70      2125\n",
      "\n",
      "    accuracy                           0.96     25000\n",
      "   macro avg       0.95      0.78      0.84     25000\n",
      "weighted avg       0.96      0.96      0.95     25000\n",
      "\n"
     ]
    }
   ],
   "source": [
    "print(classification_report(y_test, predictions))"
   ]
  },
  {
   "cell_type": "markdown",
   "metadata": {},
   "source": [
    "## Try a nonlinear kernel for the support vector classifier"
   ]
  },
  {
   "cell_type": "code",
   "execution_count": 11,
   "metadata": {},
   "outputs": [
    {
     "name": "stdout",
     "output_type": "stream",
     "text": [
      "              precision    recall  f1-score   support\n",
      "\n",
      "           0       0.97      1.00      0.98     22875\n",
      "           1       1.00      0.62      0.76      2125\n",
      "\n",
      "    accuracy                           0.97     25000\n",
      "   macro avg       0.98      0.81      0.87     25000\n",
      "weighted avg       0.97      0.97      0.96     25000\n",
      "\n"
     ]
    }
   ],
   "source": [
    "model = SVC(kernel='poly')\n",
    "model.fit(X_train, y_train)\n",
    "\n",
    "predictions = model.predict(X_test)\n",
    "predictions\n",
    "\n",
    "print(classification_report(y_test, predictions))"
   ]
  },
  {
   "cell_type": "markdown",
   "metadata": {},
   "source": [
    "## Neural Network Models"
   ]
  },
  {
   "cell_type": "code",
   "execution_count": 12,
   "metadata": {},
   "outputs": [
    {
     "name": "stdout",
     "output_type": "stream",
     "text": [
      "WARNING:tensorflow:From c:\\Users\\schre\\anaconda3\\envs\\dev\\lib\\site-packages\\keras\\src\\backend.py:873: The name tf.get_default_graph is deprecated. Please use tf.compat.v1.get_default_graph instead.\n",
      "\n",
      "Model: \"sequential\"\n",
      "_________________________________________________________________\n",
      " Layer (type)                Output Shape              Param #   \n",
      "=================================================================\n",
      " dense (Dense)               (None, 30)                480       \n",
      "                                                                 \n",
      " dense_1 (Dense)             (None, 5)                 155       \n",
      "                                                                 \n",
      " dense_2 (Dense)             (None, 1)                 6         \n",
      "                                                                 \n",
      "=================================================================\n",
      "Total params: 641 (2.50 KB)\n",
      "Trainable params: 641 (2.50 KB)\n",
      "Non-trainable params: 0 (0.00 Byte)\n",
      "_________________________________________________________________\n"
     ]
    }
   ],
   "source": [
    "# Define the model - deep neural net, i.e., the number of input features and hidden nodes for each layer.\n",
    "number_input_features = 15\n",
    "hidden_nodes_layer1 =  30\n",
    "hidden_nodes_layer2 = 5\n",
    "\n",
    "nn = tf.keras.models.Sequential()\n",
    "\n",
    "# First hidden layer\n",
    "nn.add(\n",
    "    tf.keras.layers.Dense(units=hidden_nodes_layer1, input_dim=number_input_features, activation=\"relu\")\n",
    ")\n",
    "\n",
    "# Second hidden layer\n",
    "nn.add(tf.keras.layers.Dense(units=hidden_nodes_layer2, activation=\"relu\"))\n",
    "\n",
    "# Output layer\n",
    "nn.add(tf.keras.layers.Dense(units=1, activation=\"sigmoid\"))\n",
    "\n",
    "# Check the structure of the model\n",
    "nn.summary()"
   ]
  },
  {
   "cell_type": "code",
   "execution_count": 13,
   "metadata": {},
   "outputs": [
    {
     "name": "stdout",
     "output_type": "stream",
     "text": [
      "WARNING:tensorflow:From c:\\Users\\schre\\anaconda3\\envs\\dev\\lib\\site-packages\\keras\\src\\optimizers\\__init__.py:309: The name tf.train.Optimizer is deprecated. Please use tf.compat.v1.train.Optimizer instead.\n",
      "\n"
     ]
    }
   ],
   "source": [
    "# Compile the model\n",
    "nn.compile(loss=\"binary_crossentropy\", optimizer=\"adam\", metrics=[\"accuracy\"])"
   ]
  },
  {
   "cell_type": "code",
   "execution_count": 14,
   "metadata": {},
   "outputs": [
    {
     "name": "stdout",
     "output_type": "stream",
     "text": [
      "Epoch 1/100\n",
      "WARNING:tensorflow:From c:\\Users\\schre\\anaconda3\\envs\\dev\\lib\\site-packages\\keras\\src\\utils\\tf_utils.py:492: The name tf.ragged.RaggedTensorValue is deprecated. Please use tf.compat.v1.ragged.RaggedTensorValue instead.\n",
      "\n",
      "WARNING:tensorflow:From c:\\Users\\schre\\anaconda3\\envs\\dev\\lib\\site-packages\\keras\\src\\engine\\base_layer_utils.py:384: The name tf.executing_eagerly_outside_functions is deprecated. Please use tf.compat.v1.executing_eagerly_outside_functions instead.\n",
      "\n",
      "2344/2344 [==============================] - 2s 569us/step - loss: 0.1427 - accuracy: 0.9489\n",
      "Epoch 2/100\n",
      "2344/2344 [==============================] - 1s 560us/step - loss: 0.1098 - accuracy: 0.9649\n",
      "Epoch 3/100\n",
      "2344/2344 [==============================] - 1s 564us/step - loss: 0.1004 - accuracy: 0.9667\n",
      "Epoch 4/100\n",
      "2344/2344 [==============================] - 1s 565us/step - loss: 0.0954 - accuracy: 0.9677\n",
      "Epoch 5/100\n",
      "2344/2344 [==============================] - 1s 564us/step - loss: 0.0930 - accuracy: 0.9677\n",
      "Epoch 6/100\n",
      "2344/2344 [==============================] - 1s 555us/step - loss: 0.0920 - accuracy: 0.9681\n",
      "Epoch 7/100\n",
      "2344/2344 [==============================] - 1s 552us/step - loss: 0.0918 - accuracy: 0.9682\n",
      "Epoch 8/100\n",
      "2344/2344 [==============================] - 1s 558us/step - loss: 0.0914 - accuracy: 0.9680\n",
      "Epoch 9/100\n",
      "2344/2344 [==============================] - 1s 553us/step - loss: 0.0912 - accuracy: 0.9683\n",
      "Epoch 10/100\n",
      "2344/2344 [==============================] - 1s 556us/step - loss: 0.0909 - accuracy: 0.9682\n",
      "Epoch 11/100\n",
      "2344/2344 [==============================] - 1s 552us/step - loss: 0.0910 - accuracy: 0.9681\n",
      "Epoch 12/100\n",
      "2344/2344 [==============================] - 1s 555us/step - loss: 0.0909 - accuracy: 0.9681\n",
      "Epoch 13/100\n",
      "2344/2344 [==============================] - 1s 554us/step - loss: 0.0908 - accuracy: 0.9680\n",
      "Epoch 14/100\n",
      "2344/2344 [==============================] - 1s 554us/step - loss: 0.0907 - accuracy: 0.9682\n",
      "Epoch 15/100\n",
      "2344/2344 [==============================] - 1s 555us/step - loss: 0.0907 - accuracy: 0.9684\n",
      "Epoch 16/100\n",
      "2344/2344 [==============================] - 1s 553us/step - loss: 0.0909 - accuracy: 0.9683\n",
      "Epoch 17/100\n",
      "2344/2344 [==============================] - 1s 556us/step - loss: 0.0905 - accuracy: 0.9683\n",
      "Epoch 18/100\n",
      "2344/2344 [==============================] - 1s 553us/step - loss: 0.0904 - accuracy: 0.9682\n",
      "Epoch 19/100\n",
      "2344/2344 [==============================] - 1s 554us/step - loss: 0.0906 - accuracy: 0.9682\n",
      "Epoch 20/100\n",
      "2344/2344 [==============================] - 1s 554us/step - loss: 0.0905 - accuracy: 0.9682\n",
      "Epoch 21/100\n",
      "2344/2344 [==============================] - 1s 550us/step - loss: 0.0904 - accuracy: 0.9684\n",
      "Epoch 22/100\n",
      "2344/2344 [==============================] - 1s 546us/step - loss: 0.0906 - accuracy: 0.9683\n",
      "Epoch 23/100\n",
      "2344/2344 [==============================] - 1s 544us/step - loss: 0.0903 - accuracy: 0.9685\n",
      "Epoch 24/100\n",
      "2344/2344 [==============================] - 1s 548us/step - loss: 0.0903 - accuracy: 0.9684\n",
      "Epoch 25/100\n",
      "2344/2344 [==============================] - 1s 569us/step - loss: 0.0903 - accuracy: 0.9684\n",
      "Epoch 26/100\n",
      "2344/2344 [==============================] - 1s 556us/step - loss: 0.0902 - accuracy: 0.9684\n",
      "Epoch 27/100\n",
      "2344/2344 [==============================] - 1s 557us/step - loss: 0.0902 - accuracy: 0.9684\n",
      "Epoch 28/100\n",
      "2344/2344 [==============================] - 1s 571us/step - loss: 0.0901 - accuracy: 0.9684\n",
      "Epoch 29/100\n",
      "2344/2344 [==============================] - 1s 570us/step - loss: 0.0902 - accuracy: 0.9685\n",
      "Epoch 30/100\n",
      "2344/2344 [==============================] - 1s 573us/step - loss: 0.0900 - accuracy: 0.9686\n",
      "Epoch 31/100\n",
      "2344/2344 [==============================] - 1s 566us/step - loss: 0.0902 - accuracy: 0.9685\n",
      "Epoch 32/100\n",
      "2344/2344 [==============================] - 1s 579us/step - loss: 0.0901 - accuracy: 0.9683\n",
      "Epoch 33/100\n",
      "2344/2344 [==============================] - 1s 570us/step - loss: 0.0900 - accuracy: 0.9685\n",
      "Epoch 34/100\n",
      "2344/2344 [==============================] - 1s 571us/step - loss: 0.0899 - accuracy: 0.9686\n",
      "Epoch 35/100\n",
      "2344/2344 [==============================] - 1s 564us/step - loss: 0.0900 - accuracy: 0.9685\n",
      "Epoch 36/100\n",
      "2344/2344 [==============================] - 1s 588us/step - loss: 0.0899 - accuracy: 0.9684\n",
      "Epoch 37/100\n",
      "2344/2344 [==============================] - 1s 565us/step - loss: 0.0898 - accuracy: 0.9684\n",
      "Epoch 38/100\n",
      "2344/2344 [==============================] - 1s 582us/step - loss: 0.0899 - accuracy: 0.9684\n",
      "Epoch 39/100\n",
      "2344/2344 [==============================] - 1s 607us/step - loss: 0.0899 - accuracy: 0.9685\n",
      "Epoch 40/100\n",
      "2344/2344 [==============================] - 1s 569us/step - loss: 0.0898 - accuracy: 0.9686\n",
      "Epoch 41/100\n",
      "2344/2344 [==============================] - 1s 579us/step - loss: 0.0897 - accuracy: 0.9685\n",
      "Epoch 42/100\n",
      "2344/2344 [==============================] - 1s 586us/step - loss: 0.0898 - accuracy: 0.9685\n",
      "Epoch 43/100\n",
      "2344/2344 [==============================] - 1s 597us/step - loss: 0.0898 - accuracy: 0.9687\n",
      "Epoch 44/100\n",
      "2344/2344 [==============================] - 1s 598us/step - loss: 0.0898 - accuracy: 0.9686\n",
      "Epoch 45/100\n",
      "2344/2344 [==============================] - 1s 566us/step - loss: 0.0899 - accuracy: 0.9684\n",
      "Epoch 46/100\n",
      "2344/2344 [==============================] - 1s 569us/step - loss: 0.0898 - accuracy: 0.9684\n",
      "Epoch 47/100\n",
      "2344/2344 [==============================] - 1s 612us/step - loss: 0.0896 - accuracy: 0.9686\n",
      "Epoch 48/100\n",
      "2344/2344 [==============================] - 1s 572us/step - loss: 0.0895 - accuracy: 0.9686\n",
      "Epoch 49/100\n",
      "2344/2344 [==============================] - 1s 594us/step - loss: 0.0897 - accuracy: 0.9686\n",
      "Epoch 50/100\n",
      "2344/2344 [==============================] - 1s 595us/step - loss: 0.0896 - accuracy: 0.9685\n",
      "Epoch 51/100\n",
      "2344/2344 [==============================] - 1s 551us/step - loss: 0.0896 - accuracy: 0.9684\n",
      "Epoch 52/100\n",
      "2344/2344 [==============================] - 1s 523us/step - loss: 0.0896 - accuracy: 0.9686\n",
      "Epoch 53/100\n",
      "2344/2344 [==============================] - 1s 510us/step - loss: 0.0896 - accuracy: 0.9684\n",
      "Epoch 54/100\n",
      "2344/2344 [==============================] - 1s 513us/step - loss: 0.0895 - accuracy: 0.9686\n",
      "Epoch 55/100\n",
      "2344/2344 [==============================] - 1s 515us/step - loss: 0.0895 - accuracy: 0.9686\n",
      "Epoch 56/100\n",
      "2344/2344 [==============================] - 1s 540us/step - loss: 0.0896 - accuracy: 0.9687\n",
      "Epoch 57/100\n",
      "2344/2344 [==============================] - 1s 549us/step - loss: 0.0895 - accuracy: 0.9683\n",
      "Epoch 58/100\n",
      "2344/2344 [==============================] - 1s 549us/step - loss: 0.0895 - accuracy: 0.9686\n",
      "Epoch 59/100\n",
      "2344/2344 [==============================] - 1s 550us/step - loss: 0.0895 - accuracy: 0.9685\n",
      "Epoch 60/100\n",
      "2344/2344 [==============================] - 1s 557us/step - loss: 0.0894 - accuracy: 0.9685\n",
      "Epoch 61/100\n",
      "2344/2344 [==============================] - 1s 564us/step - loss: 0.0895 - accuracy: 0.9685\n",
      "Epoch 62/100\n",
      "2344/2344 [==============================] - 1s 565us/step - loss: 0.0894 - accuracy: 0.9687\n",
      "Epoch 63/100\n",
      "2344/2344 [==============================] - 1s 565us/step - loss: 0.0894 - accuracy: 0.9686\n",
      "Epoch 64/100\n",
      "2344/2344 [==============================] - 1s 560us/step - loss: 0.0894 - accuracy: 0.9686\n",
      "Epoch 65/100\n",
      "2344/2344 [==============================] - 1s 559us/step - loss: 0.0893 - accuracy: 0.9685\n",
      "Epoch 66/100\n",
      "2344/2344 [==============================] - 1s 556us/step - loss: 0.0894 - accuracy: 0.9687\n",
      "Epoch 67/100\n",
      "2344/2344 [==============================] - 1s 555us/step - loss: 0.0893 - accuracy: 0.9685\n",
      "Epoch 68/100\n",
      "2344/2344 [==============================] - 1s 558us/step - loss: 0.0893 - accuracy: 0.9688\n",
      "Epoch 69/100\n",
      "2344/2344 [==============================] - 1s 554us/step - loss: 0.0895 - accuracy: 0.9688\n",
      "Epoch 70/100\n",
      "2344/2344 [==============================] - 1s 560us/step - loss: 0.0893 - accuracy: 0.9686\n",
      "Epoch 71/100\n",
      "2344/2344 [==============================] - 1s 556us/step - loss: 0.0893 - accuracy: 0.9686\n",
      "Epoch 72/100\n",
      "2344/2344 [==============================] - 1s 554us/step - loss: 0.0891 - accuracy: 0.9686\n",
      "Epoch 73/100\n",
      "2344/2344 [==============================] - 1s 552us/step - loss: 0.0892 - accuracy: 0.9685\n",
      "Epoch 74/100\n",
      "2344/2344 [==============================] - 1s 554us/step - loss: 0.0893 - accuracy: 0.9686\n",
      "Epoch 75/100\n",
      "2344/2344 [==============================] - 1s 561us/step - loss: 0.0892 - accuracy: 0.9684\n",
      "Epoch 76/100\n",
      "2344/2344 [==============================] - 1s 563us/step - loss: 0.0891 - accuracy: 0.9688\n",
      "Epoch 77/100\n",
      "2344/2344 [==============================] - 1s 558us/step - loss: 0.0892 - accuracy: 0.9689\n",
      "Epoch 78/100\n",
      "2344/2344 [==============================] - 1s 553us/step - loss: 0.0892 - accuracy: 0.9684\n",
      "Epoch 79/100\n",
      "2344/2344 [==============================] - 1s 558us/step - loss: 0.0891 - accuracy: 0.9686\n",
      "Epoch 80/100\n",
      "2344/2344 [==============================] - 1s 573us/step - loss: 0.0892 - accuracy: 0.9687\n",
      "Epoch 81/100\n",
      "2344/2344 [==============================] - 1s 583us/step - loss: 0.0891 - accuracy: 0.9685\n",
      "Epoch 82/100\n",
      "2344/2344 [==============================] - 1s 579us/step - loss: 0.0891 - accuracy: 0.9685\n",
      "Epoch 83/100\n",
      "2344/2344 [==============================] - 1s 577us/step - loss: 0.0891 - accuracy: 0.9686\n",
      "Epoch 84/100\n",
      "2344/2344 [==============================] - 1s 562us/step - loss: 0.0890 - accuracy: 0.9686\n",
      "Epoch 85/100\n",
      "2344/2344 [==============================] - 1s 555us/step - loss: 0.0892 - accuracy: 0.9685\n",
      "Epoch 86/100\n",
      "2344/2344 [==============================] - 1s 587us/step - loss: 0.0890 - accuracy: 0.9687\n",
      "Epoch 87/100\n",
      "2344/2344 [==============================] - 1s 605us/step - loss: 0.0889 - accuracy: 0.9685\n",
      "Epoch 88/100\n",
      "2344/2344 [==============================] - 1s 602us/step - loss: 0.0891 - accuracy: 0.9685\n",
      "Epoch 89/100\n",
      "2344/2344 [==============================] - 1s 564us/step - loss: 0.0889 - accuracy: 0.9686\n",
      "Epoch 90/100\n",
      "2344/2344 [==============================] - 1s 535us/step - loss: 0.0890 - accuracy: 0.9686\n",
      "Epoch 91/100\n",
      "2344/2344 [==============================] - 1s 534us/step - loss: 0.0890 - accuracy: 0.9688\n",
      "Epoch 92/100\n",
      "2344/2344 [==============================] - 1s 535us/step - loss: 0.0890 - accuracy: 0.9686\n",
      "Epoch 93/100\n",
      "2344/2344 [==============================] - 1s 535us/step - loss: 0.0889 - accuracy: 0.9686\n",
      "Epoch 94/100\n",
      "2344/2344 [==============================] - 1s 547us/step - loss: 0.0888 - accuracy: 0.9685\n",
      "Epoch 95/100\n",
      "2344/2344 [==============================] - 1s 547us/step - loss: 0.0889 - accuracy: 0.9686\n",
      "Epoch 96/100\n",
      "2344/2344 [==============================] - 1s 560us/step - loss: 0.0889 - accuracy: 0.9689\n",
      "Epoch 97/100\n",
      "2344/2344 [==============================] - 1s 548us/step - loss: 0.0890 - accuracy: 0.9689\n",
      "Epoch 98/100\n",
      "2344/2344 [==============================] - 1s 538us/step - loss: 0.0890 - accuracy: 0.9689\n",
      "Epoch 99/100\n",
      "2344/2344 [==============================] - 1s 537us/step - loss: 0.0888 - accuracy: 0.9689\n",
      "Epoch 100/100\n",
      "2344/2344 [==============================] - 1s 531us/step - loss: 0.0890 - accuracy: 0.9688\n"
     ]
    }
   ],
   "source": [
    "# Train the model\n",
    "fit_model = nn.fit(X_train,y_train,epochs=100)"
   ]
  },
  {
   "cell_type": "code",
   "execution_count": 15,
   "metadata": {},
   "outputs": [
    {
     "name": "stdout",
     "output_type": "stream",
     "text": [
      "782/782 - 0s - loss: 0.0941 - accuracy: 0.9675 - 380ms/epoch - 486us/step\n",
      "Loss: 0.09405865520238876, Accuracy: 0.967519998550415\n"
     ]
    }
   ],
   "source": [
    "# Evaluate the model using the test data\n",
    "model_loss, model_accuracy = nn.evaluate(X_test,y_test,verbose=2)\n",
    "print(f\"Loss: {model_loss}, Accuracy: {model_accuracy}\")"
   ]
  },
  {
   "cell_type": "markdown",
   "metadata": {},
   "source": [
    "## Step 2 - using keras tuner to select the highest performing model"
   ]
  },
  {
   "cell_type": "code",
   "execution_count": 16,
   "metadata": {},
   "outputs": [],
   "source": [
    "# Create a method that creates a new Sequential model with hyperparameter options\n",
    "def create_model(hp):\n",
    "    nn_model = tf.keras.models.Sequential()\n",
    "\n",
    "    # Allow kerastuner to decide which activation function to use in hidden layers\n",
    "    activation = hp.Choice('activation',['relu','tanh','sigmoid'])\n",
    "    \n",
    "    # Allow kerastuner to decide number of neurons in first layer\n",
    "    nn_model.add(tf.keras.layers.Dense(units=hp.Int('first_units',\n",
    "        min_value=1,\n",
    "        max_value=30,\n",
    "        step=2), activation=activation, input_dim=15))\n",
    "\n",
    "    # Allow kerastuner to decide number of hidden layers and neurons in hidden layers\n",
    "    for i in range(hp.Int('num_layers', 1, 6)):\n",
    "        nn_model.add(tf.keras.layers.Dense(units=hp.Int('units_' + str(i),\n",
    "            min_value=1,\n",
    "            max_value=10,\n",
    "            step=2),\n",
    "            activation=activation))\n",
    "    \n",
    "    nn_model.add(tf.keras.layers.Dense(units=1, activation=\"sigmoid\"))\n",
    "\n",
    "    # Compile the model\n",
    "    nn_model.compile(loss=\"binary_crossentropy\", optimizer='adam', metrics=[\"accuracy\"])\n",
    "    \n",
    "    return nn_model"
   ]
  },
  {
   "cell_type": "code",
   "execution_count": 17,
   "metadata": {},
   "outputs": [],
   "source": [
    "# Import the kerastuner library\n",
    "import keras_tuner as kt\n",
    "\n",
    "tuner = kt.Hyperband(\n",
    "    create_model,\n",
    "    objective=\"val_accuracy\",\n",
    "    max_epochs=20,\n",
    "    hyperband_iterations=2)"
   ]
  },
  {
   "cell_type": "code",
   "execution_count": 18,
   "metadata": {},
   "outputs": [
    {
     "name": "stdout",
     "output_type": "stream",
     "text": [
      "Trial 60 Complete [00h 00m 44s]\n",
      "val_accuracy: 0.9682000279426575\n",
      "\n",
      "Best val_accuracy So Far: 0.968280017375946\n",
      "Total elapsed time: 00h 15m 56s\n"
     ]
    }
   ],
   "source": [
    "# Run the kerastuner search for best hyperparameters\n",
    "tuner.search(X_train,y_train,epochs=20,validation_data=(X_test,y_test))"
   ]
  },
  {
   "cell_type": "code",
   "execution_count": 19,
   "metadata": {},
   "outputs": [
    {
     "data": {
      "text/plain": [
       "{'activation': 'relu',\n",
       " 'first_units': 15,\n",
       " 'num_layers': 2,\n",
       " 'units_0': 5,\n",
       " 'units_1': 5,\n",
       " 'units_2': 9,\n",
       " 'units_3': 7,\n",
       " 'units_4': 3,\n",
       " 'units_5': 9,\n",
       " 'tuner/epochs': 20,\n",
       " 'tuner/initial_epoch': 7,\n",
       " 'tuner/bracket': 2,\n",
       " 'tuner/round': 2,\n",
       " 'tuner/trial_id': '0045'}"
      ]
     },
     "execution_count": 19,
     "metadata": {},
     "output_type": "execute_result"
    }
   ],
   "source": [
    "# Get best model hyperparameters\n",
    "best_hyper = tuner.get_best_hyperparameters(1)[0]\n",
    "best_hyper.values"
   ]
  },
  {
   "cell_type": "code",
   "execution_count": 20,
   "metadata": {},
   "outputs": [
    {
     "name": "stdout",
     "output_type": "stream",
     "text": [
      "782/782 - 0s - loss: 0.0929 - accuracy: 0.9683 - 430ms/epoch - 549us/step\n",
      "Loss: 0.09293306618928909, Accuracy: 0.968280017375946\n"
     ]
    }
   ],
   "source": [
    "# Evaluate best model against full test data\n",
    "best_model = tuner.get_best_models(1)[0]\n",
    "model_loss, model_accuracy = best_model.evaluate(X_test,y_test,verbose=2)\n",
    "print(f\"Loss: {model_loss}, Accuracy: {model_accuracy}\")"
   ]
  },
  {
   "cell_type": "markdown",
   "metadata": {},
   "source": [
    "## Yggdrasil decision tree model\n",
    "\n",
    "The instructors suggested using the Yggdrasil decision tree model for a machine learning classification problem, so we decided to try it out and see if it could improve model performance. The accuracy was 0.967, which is not quite as good as svm, so we did not include it in the final analysis."
   ]
  },
  {
   "cell_type": "code",
   "execution_count": 21,
   "metadata": {},
   "outputs": [
    {
     "data": {
      "text/html": [
       "<div>\n",
       "<style scoped>\n",
       "    .dataframe tbody tr th:only-of-type {\n",
       "        vertical-align: middle;\n",
       "    }\n",
       "\n",
       "    .dataframe tbody tr th {\n",
       "        vertical-align: top;\n",
       "    }\n",
       "\n",
       "    .dataframe thead th {\n",
       "        text-align: right;\n",
       "    }\n",
       "</style>\n",
       "<table border=\"1\" class=\"dataframe\">\n",
       "  <thead>\n",
       "    <tr style=\"text-align: right;\">\n",
       "      <th></th>\n",
       "      <th>age</th>\n",
       "      <th>hypertension</th>\n",
       "      <th>heart_disease</th>\n",
       "      <th>bmi</th>\n",
       "      <th>hba1c_level</th>\n",
       "      <th>blood_glucose_level</th>\n",
       "      <th>gender_Female</th>\n",
       "      <th>gender_Male</th>\n",
       "      <th>gender_Other</th>\n",
       "      <th>smoking_history_No Info</th>\n",
       "      <th>smoking_history_current</th>\n",
       "      <th>smoking_history_ever</th>\n",
       "      <th>smoking_history_former</th>\n",
       "      <th>smoking_history_never</th>\n",
       "      <th>smoking_history_not current</th>\n",
       "      <th>diabetes_status</th>\n",
       "    </tr>\n",
       "  </thead>\n",
       "  <tbody>\n",
       "    <tr>\n",
       "      <th>39679</th>\n",
       "      <td>-0.837604</td>\n",
       "      <td>0</td>\n",
       "      <td>0</td>\n",
       "      <td>-0.131675</td>\n",
       "      <td>-1.028455</td>\n",
       "      <td>0.539009</td>\n",
       "      <td>0</td>\n",
       "      <td>1</td>\n",
       "      <td>0</td>\n",
       "      <td>0</td>\n",
       "      <td>0</td>\n",
       "      <td>0</td>\n",
       "      <td>0</td>\n",
       "      <td>1</td>\n",
       "      <td>0</td>\n",
       "      <td>0</td>\n",
       "    </tr>\n",
       "    <tr>\n",
       "      <th>56089</th>\n",
       "      <td>-1.547601</td>\n",
       "      <td>0</td>\n",
       "      <td>0</td>\n",
       "      <td>-1.637259</td>\n",
       "      <td>-1.028455</td>\n",
       "      <td>0.539009</td>\n",
       "      <td>0</td>\n",
       "      <td>1</td>\n",
       "      <td>0</td>\n",
       "      <td>1</td>\n",
       "      <td>0</td>\n",
       "      <td>0</td>\n",
       "      <td>0</td>\n",
       "      <td>0</td>\n",
       "      <td>0</td>\n",
       "      <td>0</td>\n",
       "    </tr>\n",
       "    <tr>\n",
       "      <th>86698</th>\n",
       "      <td>1.070513</td>\n",
       "      <td>0</td>\n",
       "      <td>0</td>\n",
       "      <td>-0.131675</td>\n",
       "      <td>-1.028455</td>\n",
       "      <td>0.514444</td>\n",
       "      <td>0</td>\n",
       "      <td>1</td>\n",
       "      <td>0</td>\n",
       "      <td>1</td>\n",
       "      <td>0</td>\n",
       "      <td>0</td>\n",
       "      <td>0</td>\n",
       "      <td>0</td>\n",
       "      <td>0</td>\n",
       "      <td>0</td>\n",
       "    </tr>\n",
       "    <tr>\n",
       "      <th>64026</th>\n",
       "      <td>-1.769475</td>\n",
       "      <td>0</td>\n",
       "      <td>0</td>\n",
       "      <td>-2.088934</td>\n",
       "      <td>0.787897</td>\n",
       "      <td>-1.426210</td>\n",
       "      <td>1</td>\n",
       "      <td>0</td>\n",
       "      <td>0</td>\n",
       "      <td>1</td>\n",
       "      <td>0</td>\n",
       "      <td>0</td>\n",
       "      <td>0</td>\n",
       "      <td>0</td>\n",
       "      <td>0</td>\n",
       "      <td>0</td>\n",
       "    </tr>\n",
       "    <tr>\n",
       "      <th>33740</th>\n",
       "      <td>-0.216357</td>\n",
       "      <td>0</td>\n",
       "      <td>0</td>\n",
       "      <td>4.234517</td>\n",
       "      <td>-1.028455</td>\n",
       "      <td>1.521618</td>\n",
       "      <td>0</td>\n",
       "      <td>1</td>\n",
       "      <td>0</td>\n",
       "      <td>0</td>\n",
       "      <td>0</td>\n",
       "      <td>1</td>\n",
       "      <td>0</td>\n",
       "      <td>0</td>\n",
       "      <td>0</td>\n",
       "      <td>0</td>\n",
       "    </tr>\n",
       "  </tbody>\n",
       "</table>\n",
       "</div>"
      ],
      "text/plain": [
       "            age  hypertension  heart_disease       bmi  hba1c_level  \\\n",
       "39679 -0.837604             0              0 -0.131675    -1.028455   \n",
       "56089 -1.547601             0              0 -1.637259    -1.028455   \n",
       "86698  1.070513             0              0 -0.131675    -1.028455   \n",
       "64026 -1.769475             0              0 -2.088934     0.787897   \n",
       "33740 -0.216357             0              0  4.234517    -1.028455   \n",
       "\n",
       "       blood_glucose_level  gender_Female  gender_Male  gender_Other  \\\n",
       "39679             0.539009              0            1             0   \n",
       "56089             0.539009              0            1             0   \n",
       "86698             0.514444              0            1             0   \n",
       "64026            -1.426210              1            0             0   \n",
       "33740             1.521618              0            1             0   \n",
       "\n",
       "       smoking_history_No Info  smoking_history_current  smoking_history_ever  \\\n",
       "39679                        0                        0                     0   \n",
       "56089                        1                        0                     0   \n",
       "86698                        1                        0                     0   \n",
       "64026                        1                        0                     0   \n",
       "33740                        0                        0                     1   \n",
       "\n",
       "       smoking_history_former  smoking_history_never  \\\n",
       "39679                       0                      1   \n",
       "56089                       0                      0   \n",
       "86698                       0                      0   \n",
       "64026                       0                      0   \n",
       "33740                       0                      0   \n",
       "\n",
       "       smoking_history_not current  diabetes_status  \n",
       "39679                            0                0  \n",
       "56089                            0                0  \n",
       "86698                            0                0  \n",
       "64026                            0                0  \n",
       "33740                            0                0  "
      ]
     },
     "execution_count": 21,
     "metadata": {},
     "output_type": "execute_result"
    }
   ],
   "source": [
    "#need X_train, y_train combined into one dataframe\n",
    "train_df=pd.concat([X_train,y_train],axis=1)\n",
    "train_df.head()\n",
    "\n",
    "test_df=pd.concat([X_test,y_test],axis=1)\n",
    "test_df.head()"
   ]
  },
  {
   "cell_type": "code",
   "execution_count": 22,
   "metadata": {},
   "outputs": [
    {
     "name": "stdout",
     "output_type": "stream",
     "text": [
      "Train model on 75000 examples\n",
      "Model trained in 0:00:01.385456\n"
     ]
    }
   ],
   "source": [
    "model = ydf.RandomForestLearner(label='diabetes_status',\n",
    "                                task=ydf.Task.CLASSIFICATION).train(train_df)"
   ]
  },
  {
   "cell_type": "code",
   "execution_count": 23,
   "metadata": {},
   "outputs": [
    {
     "name": "stdout",
     "output_type": "stream",
     "text": [
      "accuracy: 0.96784\n",
      "confusion matrix:\n",
      "    label (row) \\ prediction (col)\n",
      "    +-------+-------+-------+\n",
      "    |       |     0 |     1 |\n",
      "    +-------+-------+-------+\n",
      "    |     0 | 22862 |    13 |\n",
      "    +-------+-------+-------+\n",
      "    |     1 |   791 |  1334 |\n",
      "    +-------+-------+-------+\n",
      "characteristics:\n",
      "    name: '1' vs others\n",
      "    ROC AUC: 0.931697\n",
      "    PR AUC: 0.834077\n",
      "    Num thresholds: 182\n",
      "loss: 0.36414\n",
      "num examples: 25000\n",
      "num examples (weighted): 25000\n",
      "\n"
     ]
    }
   ],
   "source": [
    "evaluation = model.evaluate(test_df)\n",
    "\n",
    "print(evaluation)"
   ]
  },
  {
   "cell_type": "markdown",
   "metadata": {},
   "source": [
    "## Gaussian Naive Bayes\n",
    "\n",
    "Gaussian Naive Bayes is a machine learning classification technique based on a probablistic approach that assumes each class follows a normal distribution. It assumes each parameter has an independent capacity of predicting the output variable. The model makes strong assumptions about independence of the predictors, which our data violates, so the model did not end up with a very high accuracy and was excluded from our final analysis."
   ]
  },
  {
   "cell_type": "code",
   "execution_count": 24,
   "metadata": {},
   "outputs": [],
   "source": [
    "gnb = GaussianNB()\n",
    "predictions = gnb.fit(X_train, y_train).predict(X_test)"
   ]
  },
  {
   "cell_type": "code",
   "execution_count": 25,
   "metadata": {},
   "outputs": [
    {
     "name": "stdout",
     "output_type": "stream",
     "text": [
      "              precision    recall  f1-score   support\n",
      "\n",
      "           0       0.99      0.61      0.75     22875\n",
      "           1       0.18      0.96      0.31      2125\n",
      "\n",
      "    accuracy                           0.64     25000\n",
      "   macro avg       0.59      0.78      0.53     25000\n",
      "weighted avg       0.92      0.64      0.71     25000\n",
      "\n"
     ]
    }
   ],
   "source": [
    "print(classification_report(y_test, predictions))"
   ]
  },
  {
   "cell_type": "markdown",
   "metadata": {},
   "source": [
    "## XGBoost model\n",
    "\n",
    "XGBoost is a gradient boosted decision tree method. It is a regularized version of the gradient boosting algorithm, which makes it faster and more effective, especially when datasets include numerical and categorical features. It has historically been used to great effect in machine learning competitions such as on the Kaggle platform. It produced great results for us with 97 percent accuracy."
   ]
  },
  {
   "cell_type": "code",
   "execution_count": 26,
   "metadata": {},
   "outputs": [],
   "source": [
    "bst = XGBClassifier(n_estimators=2, max_depth=2, learning_rate=1, objective='binary:logistic')\n",
    "# fit model\n",
    "bst.fit(X_train, y_train)\n",
    "# make predictions\n",
    "predictions = bst.predict(X_test)"
   ]
  },
  {
   "cell_type": "code",
   "execution_count": 27,
   "metadata": {},
   "outputs": [
    {
     "name": "stdout",
     "output_type": "stream",
     "text": [
      "              precision    recall  f1-score   support\n",
      "\n",
      "           0       0.97      1.00      0.98     22875\n",
      "           1       1.00      0.62      0.76      2125\n",
      "\n",
      "    accuracy                           0.97     25000\n",
      "   macro avg       0.98      0.81      0.87     25000\n",
      "weighted avg       0.97      0.97      0.96     25000\n",
      "\n"
     ]
    }
   ],
   "source": [
    "print(classification_report(y_test, predictions))"
   ]
  }
 ],
 "metadata": {
  "kernelspec": {
   "display_name": "dev",
   "language": "python",
   "name": "python3"
  },
  "language_info": {
   "codemirror_mode": {
    "name": "ipython",
    "version": 3
   },
   "file_extension": ".py",
   "mimetype": "text/x-python",
   "name": "python",
   "nbconvert_exporter": "python",
   "pygments_lexer": "ipython3",
   "version": "3.10.13"
  }
 },
 "nbformat": 4,
 "nbformat_minor": 2
}
